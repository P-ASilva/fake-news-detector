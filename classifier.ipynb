{
 "cells": [
  {
   "cell_type": "code",
   "execution_count": 164,
   "metadata": {},
   "outputs": [
    {
     "name": "stderr",
     "output_type": "stream",
     "text": [
      "[nltk_data] Downloading package stopwords to\n",
      "[nltk_data]     C:\\Users\\pedro\\AppData\\Roaming\\nltk_data...\n",
      "[nltk_data]   Package stopwords is already up-to-date!\n",
      "[nltk_data] Downloading package wordnet to\n",
      "[nltk_data]     C:\\Users\\pedro\\AppData\\Roaming\\nltk_data...\n",
      "[nltk_data]   Package wordnet is already up-to-date!\n"
     ]
    },
    {
     "data": {
      "text/plain": [
       "True"
      ]
     },
     "execution_count": 164,
     "metadata": {},
     "output_type": "execute_result"
    }
   ],
   "source": [
    "# dowload before running\n",
    "\n",
    "import nltk\n",
    "\n",
    "nltk.download('stopwords')\n",
    "nltk.download('wordnet')\n",
    "\n",
    "# comment this after frist run"
   ]
  },
  {
   "cell_type": "code",
   "execution_count": 165,
   "metadata": {},
   "outputs": [],
   "source": [
    "import pandas as pd\n",
    "import numpy as np\n",
    "import matplotlib.pyplot as plt\n",
    "\n",
    "from nltk.corpus import stopwords\n",
    "from nltk.stem import WordNetLemmatizer"
   ]
  },
  {
   "cell_type": "markdown",
   "metadata": {},
   "source": [
    "## Preprocessing and Balance Analysis"
   ]
  },
  {
   "cell_type": "markdown",
   "metadata": {},
   "source": [
    "### Loading datasets and joining them"
   ]
  },
  {
   "cell_type": "code",
   "execution_count": 166,
   "metadata": {},
   "outputs": [],
   "source": [
    "df_true = pd.read_csv(\"./db/True.csv\",sep=',')\n",
    "df_false = pd.read_csv(\"./db/Fake.csv\",sep=',')"
   ]
  },
  {
   "cell_type": "code",
   "execution_count": 167,
   "metadata": {},
   "outputs": [],
   "source": [
    "df_true['real'] = 1\n",
    "df_false['real'] = 0"
   ]
  },
  {
   "cell_type": "code",
   "execution_count": 168,
   "metadata": {},
   "outputs": [],
   "source": [
    "df = pd.concat([df_true,df_false])\n",
    "df = df.drop(['date'], axis=1) # Not relevant. Check reference for clarification."
   ]
  },
  {
   "cell_type": "code",
   "execution_count": 169,
   "metadata": {},
   "outputs": [
    {
     "data": {
      "text/html": [
       "<div>\n",
       "<style scoped>\n",
       "    .dataframe tbody tr th:only-of-type {\n",
       "        vertical-align: middle;\n",
       "    }\n",
       "\n",
       "    .dataframe tbody tr th {\n",
       "        vertical-align: top;\n",
       "    }\n",
       "\n",
       "    .dataframe thead th {\n",
       "        text-align: right;\n",
       "    }\n",
       "</style>\n",
       "<table border=\"1\" class=\"dataframe\">\n",
       "  <thead>\n",
       "    <tr style=\"text-align: right;\">\n",
       "      <th></th>\n",
       "      <th>title</th>\n",
       "      <th>text</th>\n",
       "      <th>subject</th>\n",
       "      <th>real</th>\n",
       "    </tr>\n",
       "  </thead>\n",
       "  <tbody>\n",
       "    <tr>\n",
       "      <th>0</th>\n",
       "      <td>As U.S. budget fight looms, Republicans flip t...</td>\n",
       "      <td>WASHINGTON (Reuters) - The head of a conservat...</td>\n",
       "      <td>politicsNews</td>\n",
       "      <td>1</td>\n",
       "    </tr>\n",
       "    <tr>\n",
       "      <th>1</th>\n",
       "      <td>U.S. military to accept transgender recruits o...</td>\n",
       "      <td>WASHINGTON (Reuters) - Transgender people will...</td>\n",
       "      <td>politicsNews</td>\n",
       "      <td>1</td>\n",
       "    </tr>\n",
       "    <tr>\n",
       "      <th>2</th>\n",
       "      <td>Senior U.S. Republican senator: 'Let Mr. Muell...</td>\n",
       "      <td>WASHINGTON (Reuters) - The special counsel inv...</td>\n",
       "      <td>politicsNews</td>\n",
       "      <td>1</td>\n",
       "    </tr>\n",
       "    <tr>\n",
       "      <th>3</th>\n",
       "      <td>FBI Russia probe helped by Australian diplomat...</td>\n",
       "      <td>WASHINGTON (Reuters) - Trump campaign adviser ...</td>\n",
       "      <td>politicsNews</td>\n",
       "      <td>1</td>\n",
       "    </tr>\n",
       "    <tr>\n",
       "      <th>4</th>\n",
       "      <td>Trump wants Postal Service to charge 'much mor...</td>\n",
       "      <td>SEATTLE/WASHINGTON (Reuters) - President Donal...</td>\n",
       "      <td>politicsNews</td>\n",
       "      <td>1</td>\n",
       "    </tr>\n",
       "  </tbody>\n",
       "</table>\n",
       "</div>"
      ],
      "text/plain": [
       "                                               title  \\\n",
       "0  As U.S. budget fight looms, Republicans flip t...   \n",
       "1  U.S. military to accept transgender recruits o...   \n",
       "2  Senior U.S. Republican senator: 'Let Mr. Muell...   \n",
       "3  FBI Russia probe helped by Australian diplomat...   \n",
       "4  Trump wants Postal Service to charge 'much mor...   \n",
       "\n",
       "                                                text       subject  real  \n",
       "0  WASHINGTON (Reuters) - The head of a conservat...  politicsNews     1  \n",
       "1  WASHINGTON (Reuters) - Transgender people will...  politicsNews     1  \n",
       "2  WASHINGTON (Reuters) - The special counsel inv...  politicsNews     1  \n",
       "3  WASHINGTON (Reuters) - Trump campaign adviser ...  politicsNews     1  \n",
       "4  SEATTLE/WASHINGTON (Reuters) - President Donal...  politicsNews     1  "
      ]
     },
     "execution_count": 169,
     "metadata": {},
     "output_type": "execute_result"
    }
   ],
   "source": [
    "df.head()"
   ]
  },
  {
   "cell_type": "markdown",
   "metadata": {},
   "source": [
    "### Defining pre-processing function\n",
    "\n",
    "When working with text-based classifiers, it's important to clear them of expressions and words that provide little to no context or relevant information for classification.\n",
    "In this step, the text is converted to lowercase, stop words are removed and then the text is lemmatised."
   ]
  },
  {
   "cell_type": "code",
   "execution_count": 170,
   "metadata": {},
   "outputs": [],
   "source": [
    "def pre_process_text_fields(df, cols):\n",
    "    pre_df = df.copy(deep=True)\n",
    "    pre_df[cols] = pre_df[cols].apply(lambda x: x.apply(lambda x: x.lower())) # Juro que fui eu ue escrevi isso, tá dessa forma pq com usei cols ele pega a série ao invés da coluna então tem de passar outro apply pra pegar os valores\n",
    "    # removing stopwords\n",
    "    stop_words = set(stopwords.words('english'))\n",
    "    pre_df[cols].apply(lambda x: x.apply(lambda x : str(' '.join([word for word in x.split() if word not in stop_words]))))\n",
    "    # lemmitization\n",
    "    lemmatizer = WordNetLemmatizer()\n",
    "    pre_df[cols] = pre_df[cols].apply(lambda x: x.apply(lambda x: ' '.join([lemmatizer.lemmatize(p) for p in x.lower().split()])))\n",
    "\n",
    "    return pre_df"
   ]
  },
  {
   "cell_type": "code",
   "execution_count": 171,
   "metadata": {},
   "outputs": [],
   "source": [
    "df = pre_process_text_fields(df, ['title', 'text'])"
   ]
  },
  {
   "cell_type": "markdown",
   "metadata": {},
   "source": [
    "### Removing Tag-Like String from Text Collumn\n",
    "\n",
    "When first looking at the data, a tag-like phrase appeared in the text field - This 'tag' references the origin of the text, and will introduce bias if left in this field. \n",
    "As such, it'll be removed from the text collumn and a origin collumn will be created to store it for precaution."
   ]
  },
  {
   "cell_type": "code",
   "execution_count": 172,
   "metadata": {},
   "outputs": [],
   "source": [
    "df[\"origin\"] = df[\"text\"].apply(lambda x: x.split(\"-\")[0])\n",
    "df[\"text\"] = df[\"text\"].apply(lambda x: \n",
    "    x if len(x.split(\"-\")) <= 1\n",
    "    else x.split(\"-\")[1]\n",
    ")"
   ]
  },
  {
   "cell_type": "markdown",
   "metadata": {},
   "source": [
    "## Distribution analysis"
   ]
  },
  {
   "cell_type": "markdown",
   "metadata": {},
   "source": [
    "### Subject/Topic \n",
    "\n",
    "In order assure the model can be retrained and the dataset augmented with external data, a subject/topic generalization will be conducted. Keeping the process simple, the fake news are to be separated between world news and politic news to fit with the topics delineated in the real news."
   ]
  },
  {
   "cell_type": "code",
   "execution_count": 173,
   "metadata": {},
   "outputs": [],
   "source": [
    "df['title_len'] = df['title'].apply(lambda x: len(x))\n",
    "df['text_len'] = df['text'].apply(lambda x: len(x))"
   ]
  },
  {
   "cell_type": "code",
   "execution_count": 174,
   "metadata": {},
   "outputs": [
    {
     "data": {
      "image/png": "[encoded data removed]",
      "text/plain": [
       "<Figure size 640x480 with 1 Axes>"
      ]
     },
     "metadata": {},
     "output_type": "display_data"
    }
   ],
   "source": [
    "fake = df[\"real\"] == 0\n",
    "df[fake][\"subject\"].value_counts().plot(kind='bar')\n",
    "plt.title(\"Fake News Subjects\")\n",
    "plt.show()"
   ]
  },
  {
   "cell_type": "code",
   "execution_count": 175,
   "metadata": {},
   "outputs": [],
   "source": [
    "df['subject'] = df['subject'].apply(lambda x: 'politicsNews' if x in ['politics', 'left-news'] else x)\n",
    "df['subject'] = df['subject'].apply(lambda x: 'worldnews' if x in ['News', 'Government News', 'US_News', 'Middle-east'] else x)"
   ]
  },
  {
   "cell_type": "code",
   "execution_count": 176,
   "metadata": {},
   "outputs": [
    {
     "data": {
      "image/png": "[encoded data removed]",
      "text/plain": [
       "<Figure size 640x480 with 1 Axes>"
      ]
     },
     "metadata": {},
     "output_type": "display_data"
    }
   ],
   "source": [
    "df[~fake][\"subject\"].value_counts().plot(kind='bar')\n",
    "plt.title(\"Real News Subjects\")\n",
    "plt.show()"
   ]
  },
  {
   "cell_type": "markdown",
   "metadata": {},
   "source": [
    "### Evaluating size distribution\n",
    "\n",
    "This section has no impact in the final model. The goal is to check for other possible metrics to be used in future interations, such as text and title size."
   ]
  },
  {
   "cell_type": "code",
   "execution_count": 177,
   "metadata": {},
   "outputs": [
    {
     "data": {
      "text/plain": [
       "<Axes: ylabel='Frequency'>"
      ]
     },
     "execution_count": 177,
     "metadata": {},
     "output_type": "execute_result"
    },
    {
     "data": {
      "image/png": "[encoded data removed]",
      "text/plain": [
       "<Figure size 640x480 with 1 Axes>"
      ]
     },
     "metadata": {},
     "output_type": "display_data"
    }
   ],
   "source": [
    "df[~fake]['title_len'].plot(kind='hist', bins=20, alpha=0.5, label='Real', legend=True)\n",
    "df[fake]['title_len'].plot(kind='hist', bins=20, alpha=0.5, label='Fake', legend=True)"
   ]
  },
  {
   "cell_type": "code",
   "execution_count": 178,
   "metadata": {},
   "outputs": [
    {
     "data": {
      "text/plain": [
       "<Axes: ylabel='Frequency'>"
      ]
     },
     "execution_count": 178,
     "metadata": {},
     "output_type": "execute_result"
    },
    {
     "data": {
      "image/png": "[encoded data removed]",
      "text/plain": [
       "<Figure size 640x480 with 1 Axes>"
      ]
     },
     "metadata": {},
     "output_type": "display_data"
    }
   ],
   "source": [
    "df[fake]['text_len'].plot(kind='hist', bins=20, alpha=0.5, label='Fake', legend=True)\n",
    "df[~fake]['text_len'].plot(kind='hist', bins=20, alpha=0.5, label='Real', legend=True)"
   ]
  },
  {
   "cell_type": "markdown",
   "metadata": {},
   "source": [
    "### Target Feature Distribution"
   ]
  },
  {
   "cell_type": "code",
   "execution_count": 179,
   "metadata": {},
   "outputs": [
    {
     "data": {
      "text/plain": [
       "(23481, 21417)"
      ]
     },
     "execution_count": 179,
     "metadata": {},
     "output_type": "execute_result"
    }
   ],
   "source": [
    "len(df[fake]), len(df[~fake])"
   ]
  },
  {
   "cell_type": "markdown",
   "metadata": {},
   "source": [
    "looks well balanced."
   ]
  },
  {
   "cell_type": "markdown",
   "metadata": {},
   "source": [
    "### Subject Split"
   ]
  },
  {
   "cell_type": "code",
   "execution_count": 180,
   "metadata": {},
   "outputs": [],
   "source": [
    "world_news = df[\"subject\"] == \"worldnews\"\n",
    "politics_news = df[\"subject\"] == \"politicsNews\"\n",
    "\n",
    "df_world = df[world_news].copy(deep=True)\n",
    "df_politics = df[politics_news].copy(deep=True)"
   ]
  },
  {
   "cell_type": "markdown",
   "metadata": {},
   "source": [
    "### Down-Scaling Setup\n",
    "\n",
    "To check for acuracy variation in different data sizes, an experiment comparing model performance using decreasing amounts of data will be conducted, with four smaller datasets being arranged to compare with the original."
   ]
  },
  {
   "cell_type": "code",
   "execution_count": 181,
   "metadata": {},
   "outputs": [],
   "source": [
    "# make me four dataframes for each subject, contaning respectively, 1/2 of the data, 1/4, 1/8 and 1/16 of the data, evenly balanced between real and fake news\n",
    "# make sure to shuffle the data before splitting\n",
    "df_world = df_world.sample(frac=1)\n",
    "fake_index = df_world[df_world[\"real\"] == 0].index\n",
    "real_index = df_world[df_world[\"real\"] == 1].index\n",
    "\n",
    "df_world_1_2 = pd.concat([df_world.loc[fake_index[:len(fake_index)//2]], df_world.loc[real_index[:len(real_index)//2]]])\n",
    "df_world_1_4 = pd.concat([df_world.loc[fake_index[:len(fake_index)//4]], df_world.loc[real_index[:len(real_index)//4]]])\n",
    "df_world_1_8 = pd.concat([df_world.loc[fake_index[:len(fake_index)//8]], df_world.loc[real_index[:len(real_index)//8]]])\n",
    "df_world_1_16 = pd.concat([df_world.loc[fake_index[:len(fake_index)//16]], df_world.loc[real_index[:len(real_index)//16]]])\n",
    "df_world_1_32 = pd.concat([df_world.loc[fake_index[:len(fake_index)//32]], df_world.loc[real_index[:len(real_index)//32]]])\n",
    "df_world_1_64 = pd.concat([df_world.loc[fake_index[:len(fake_index)//64]], df_world.loc[real_index[:len(real_index)//64]]])"
   ]
  },
  {
   "cell_type": "code",
   "execution_count": 182,
   "metadata": {},
   "outputs": [],
   "source": [
    "df_politics = df_politics.sample(frac=1)\n",
    "fake_index = df_politics[df_politics[\"real\"] == 0].index\n",
    "real_index = df_politics[df_politics[\"real\"] == 1].index\n",
    "\n",
    "df_politics_1_2 = pd.concat([df_politics.loc[fake_index[:len(fake_index)//2]], df_politics.loc[real_index[:len(real_index)//2]]])\n",
    "df_politics_1_4 = pd.concat([df_politics.loc[fake_index[:len(fake_index)//4]], df_politics.loc[real_index[:len(real_index)//4]]])\n",
    "df_politics_1_8 = pd.concat([df_politics.loc[fake_index[:len(fake_index)//8]], df_politics.loc[real_index[:len(real_index)//8]]])\n",
    "df_politics_1_16 = pd.concat([df_politics.loc[fake_index[:len(fake_index)//16]], df_politics.loc[real_index[:len(real_index)//16]]])\n",
    "df_politics_1_32 = pd.concat([df_politics.loc[fake_index[:len(fake_index)//32]], df_politics.loc[real_index[:len(real_index)//32]]])\n",
    "df_politics_1_64 = pd.concat([df_politics.loc[fake_index[:len(fake_index)//64]],df_politics.loc[real_index[:len(real_index)//64]]])"
   ]
  },
  {
   "cell_type": "markdown",
   "metadata": {},
   "source": [
    "## Classifier Evaluation and Testing\n",
    "\n",
    "In this section contains the pipeline related setups, testing with subject-based sections and downsampling tests."
   ]
  },
  {
   "cell_type": "markdown",
   "metadata": {},
   "source": [
    "### Pipeline Setup"
   ]
  },
  {
   "cell_type": "code",
   "execution_count": 183,
   "metadata": {},
   "outputs": [],
   "source": [
    "from sklearn.pipeline import Pipeline\n",
    "from sklearn.feature_extraction.text import CountVectorizer\n",
    "from sklearn.linear_model import LogisticRegression"
   ]
  },
  {
   "cell_type": "code",
   "execution_count": 184,
   "metadata": {},
   "outputs": [],
   "source": [
    "def new_pipeline():\n",
    "    return Pipeline([\n",
    "        ('Vectorizer', CountVectorizer(binary=True)),  \n",
    "        ('Classifier', LogisticRegression()),  \n",
    "    ])"
   ]
  },
  {
   "cell_type": "code",
   "execution_count": 185,
   "metadata": {},
   "outputs": [],
   "source": [
    "# define preprocessing pipeline\n",
    "pipe_base = new_pipeline()"
   ]
  },
  {
   "cell_type": "markdown",
   "metadata": {},
   "source": [
    "### Metric Extraction Setup"
   ]
  },
  {
   "cell_type": "code",
   "execution_count": 195,
   "metadata": {},
   "outputs": [],
   "source": [
    "def relevant_words_sample(vectorizer, classifier):\n",
    "    words = vectorizer.get_feature_names_out()\n",
    "    coefs = classifier.coef_\n",
    "    # classes = classifier.classes_\n",
    "    sorted_coef_indexes = coefs.argsort(axis=1)\n",
    "\n",
    "\n",
    "    print('\\n')\n",
    "    print(f\"Most relevant for class: '0'\\n\")\n",
    "    top5words = words[sorted_coef_indexes[0,:20]]\n",
    "    print(top5words)\n",
    "    top5coefs = coefs[0,sorted_coef_indexes[0,:10]]\n",
    "    print(top5coefs)\n",
    "    print('\\n')\n",
    "    print(f\"Most relevant for class: '1'\\n\")\n",
    "    last5words = words[sorted_coef_indexes[0,-20:]]\n",
    "    print(last5words)\n",
    "    last5coefs = coefs[0,sorted_coef_indexes[0,-10:]]\n",
    "    print(last5coefs)\n"
   ]
  },
  {
   "cell_type": "code",
   "execution_count": 194,
   "metadata": {},
   "outputs": [],
   "source": [
    "def test_pipeline(df, pipe, title):\n",
    "    X_train, X_test, y_train, y_test = train_test_split(df[\"text\"], df[\"real\"], test_size=0.2)\n",
    "\n",
    "    pipe.fit(X_train, y_train)\n",
    "    y_pred = pipe.predict(X_test)\n",
    "\n",
    "    print(title, df.shape)\n",
    "    print(classification_report(y_test, y_pred))"
   ]
  },
  {
   "cell_type": "code",
   "execution_count": 187,
   "metadata": {},
   "outputs": [],
   "source": [
    "from sklearn.model_selection import train_test_split\n",
    "from sklearn.metrics import classification_report"
   ]
  },
  {
   "cell_type": "markdown",
   "metadata": {},
   "source": [
    "### Subject restricted classification"
   ]
  },
  {
   "cell_type": "code",
   "execution_count": 196,
   "metadata": {},
   "outputs": [
    {
     "name": "stdout",
     "output_type": "stream",
     "text": [
      "Complete Dataset (44898, 7)\n",
      "              precision    recall  f1-score   support\n",
      "\n",
      "           0       0.94      0.97      0.96      4690\n",
      "           1       0.97      0.94      0.95      4290\n",
      "\n",
      "    accuracy                           0.95      8980\n",
      "   macro avg       0.95      0.95      0.95      8980\n",
      "weighted avg       0.95      0.95      0.95      8980\n",
      "\n"
     ]
    }
   ],
   "source": [
    "test_pipeline(df, pipe_base, \"Complete Dataset\")"
   ]
  },
  {
   "cell_type": "code",
   "execution_count": 197,
   "metadata": {},
   "outputs": [
    {
     "name": "stdout",
     "output_type": "stream",
     "text": [
      "\n",
      "\n",
      "Most relevant for class: '0'\n",
      "\n",
      "['via' 'elect' 'rep' 'gop' 'mr' 'sen' 'https' 'gov' 'wing' 'ky' 'read'\n",
      " 'obama' 'trump' 'com' 'controlled' 'finally' 'based' 'runner' 'watch'\n",
      " 'assad']\n",
      "[-3.62657018 -3.05749334 -2.83860215 -2.79928337 -2.50589678 -2.40373252\n",
      " -2.12733647 -2.03751283 -1.98921668 -1.97564537]\n",
      "\n",
      "\n",
      "Most relevant for class: '1'\n",
      "\n",
      "['pakistan' 'presidential' 'turkish' 'representative' 'french' 'catalonia'\n",
      " 'tuesday' 'inc' 'monday' 'german' 'thursday' 'britain' 'wednesday' 'saad'\n",
      " 'saudi' 'president' 'reuters' 'donald' 'est' 'edt']\n",
      "[2.24109376 2.4264188  2.43506151 2.45558854 2.45809053 2.846959\n",
      " 3.17196213 3.22216998 3.48201383 3.99021001]\n"
     ]
    }
   ],
   "source": [
    "relevant_words_sample(pipe_base['Vectorizer'], pipe_base['Classifier'])"
   ]
  },
  {
   "cell_type": "code",
   "execution_count": 198,
   "metadata": {},
   "outputs": [
    {
     "name": "stdout",
     "output_type": "stream",
     "text": [
      "Complete World News Dataset (22326, 7)\n",
      "              precision    recall  f1-score   support\n",
      "\n",
      "           0       0.96      0.97      0.96      2426\n",
      "           1       0.97      0.95      0.96      2040\n",
      "\n",
      "    accuracy                           0.96      4466\n",
      "   macro avg       0.96      0.96      0.96      4466\n",
      "weighted avg       0.96      0.96      0.96      4466\n",
      "\n"
     ]
    }
   ],
   "source": [
    "test_pipeline(df_world, pipe_base, \"Complete World News Dataset\")"
   ]
  },
  {
   "cell_type": "code",
   "execution_count": 199,
   "metadata": {},
   "outputs": [
    {
     "name": "stdout",
     "output_type": "stream",
     "text": [
      "\n",
      "\n",
      "Most relevant for class: '0'\n",
      "\n",
      "['trump' 'obama' 'wing' 'year' 'elect' 'via' 'republican' 'clinton'\n",
      " 'american' 'america' 'according' 'page' 'based' 'morning' 'just' 'states'\n",
      " 'gop' 'as' 'so' 'semitism']\n",
      "[-2.53852782 -2.51729934 -2.09071817 -2.00692302 -1.88306794 -1.80921405\n",
      " -1.73903748 -1.57686905 -1.53672225 -1.39731435]\n",
      "\n",
      "\n",
      "Most relevant for class: '1'\n",
      "\n",
      "['russian' 'friday' 'european' 'wednesday' 'monday' 'britain' 'british'\n",
      " 'china' 'minister' 'saad' 'australia' 'kurdish' 'thursday' 'italy'\n",
      " 'german' 'french' 'japan' 'donald' 'reuters' 'saudi']\n",
      "[1.87059977 1.88236084 1.90487979 1.90841591 1.91836442 1.93161946\n",
      " 2.02588033 2.06932092 2.08713351 2.51533407]\n"
     ]
    }
   ],
   "source": [
    "relevant_words_sample(pipe_base['Vectorizer'], pipe_base['Classifier'])"
   ]
  },
  {
   "cell_type": "code",
   "execution_count": 200,
   "metadata": {},
   "outputs": [
    {
     "name": "stdout",
     "output_type": "stream",
     "text": [
      "Complete Politics News Dataset (22572, 7)\n",
      "              precision    recall  f1-score   support\n",
      "\n",
      "           0       0.94      0.97      0.95      2301\n",
      "           1       0.97      0.93      0.95      2214\n",
      "\n",
      "    accuracy                           0.95      4515\n",
      "   macro avg       0.95      0.95      0.95      4515\n",
      "weighted avg       0.95      0.95      0.95      4515\n",
      "\n"
     ]
    }
   ],
   "source": [
    "test_pipeline(df_politics, pipe_base, \"Complete Politics News Dataset\")"
   ]
  },
  {
   "cell_type": "code",
   "execution_count": 201,
   "metadata": {},
   "outputs": [
    {
     "name": "stdout",
     "output_type": "stream",
     "text": [
      "\n",
      "\n",
      "Most relevant for class: '0'\n",
      "\n",
      "['via' 'elect' 'rep' 'gop' 'read' 'mr' 'https' 'watch' 'sen' 'com' 'cnn'\n",
      " 'gov' 'yes' 'finally' 'just' 'trumper' 'profile' 'pretty' 'insisted'\n",
      " 'mccain']\n",
      "[-3.75643606 -2.61110515 -2.59503823 -2.38215898 -2.23662999 -2.22084516\n",
      " -1.99938334 -1.96054218 -1.77674108 -1.60327977]\n",
      "\n",
      "\n",
      "Most relevant for class: '1'\n",
      "\n",
      "['nov' 'illinois' 'corp' 'tax' 'inc' 'thursday' 'tuesday' 'friday'\n",
      " 'briefing' 'monday' 'lawmaker' 'representative' 'wednesday'\n",
      " 'presidential' 'republican' 'donald' 'reuters' 'est' 'president' 'edt']\n",
      "[1.83073773 1.90664181 1.99628444 2.30301    2.42424912 2.75216209\n",
      " 2.75834595 3.08316811 3.27161917 4.00343858]\n"
     ]
    }
   ],
   "source": [
    "relevant_words_sample(pipe_base['Vectorizer'], pipe_base['Classifier'])"
   ]
  },
  {
   "cell_type": "markdown",
   "metadata": {},
   "source": [
    "#### Preliminary Conclusion: \n",
    "\n",
    "Sectioning the data between subjects does not appear to have significative impact in the models accuracy for this dataset."
   ]
  },
  {
   "cell_type": "markdown",
   "metadata": {},
   "source": [
    "### Impacts of size reduction"
   ]
  },
  {
   "cell_type": "code",
   "execution_count": 214,
   "metadata": {},
   "outputs": [
    {
     "name": "stdout",
     "output_type": "stream",
     "text": [
      "world 1/64 (396, 7)\n",
      "              precision    recall  f1-score   support\n",
      "\n",
      "           0       0.91      0.84      0.88        50\n",
      "           1       0.76      0.87      0.81        30\n",
      "\n",
      "    accuracy                           0.85        80\n",
      "   macro avg       0.84      0.85      0.84        80\n",
      "weighted avg       0.86      0.85      0.85        80\n",
      "\n"
     ]
    }
   ],
   "source": [
    "test_pipeline(df_world_1_64, pipe_base, 'world 1/64')"
   ]
  },
  {
   "cell_type": "code",
   "execution_count": 216,
   "metadata": {},
   "outputs": [
    {
     "name": "stdout",
     "output_type": "stream",
     "text": [
      "\n",
      "\n",
      "Most relevant for class: '0'\n",
      "\n",
      "['at' 'our' 'they' 'is' 'the' 'you' 'who' 'what' 'her' 'me' 'be' 'him'\n",
      " 'about' 'well' 'she' 'read' 'this' 'get' 'great' 'all']\n",
      "[-0.55514683 -0.52900102 -0.51847253 -0.50989656 -0.50590046 -0.48661763\n",
      " -0.4654404  -0.45602126 -0.41878499 -0.41420499]\n",
      "\n",
      "\n",
      "Most relevant for class: '1'\n",
      "\n",
      "['senate' 'put' 'government' 'ted' 'cruz' 'will' 'ha' 'lawmaker'\n",
      " 'wednesday' 'democratic' 'state' 'thursday' 'during' 'tuesday' 'said'\n",
      " 'front' 'republican' 'donald' 'on' 'president']\n",
      "[0.59208518 0.59303846 0.60395465 0.67763169 0.8865314  0.91473282\n",
      " 1.0308655  1.08128377 1.43104816 1.55066701]\n"
     ]
    }
   ],
   "source": [
    "relevant_words_sample(pipe_base['Vectorizer'], pipe_base['Classifier'])"
   ]
  },
  {
   "cell_type": "code",
   "execution_count": 206,
   "metadata": {},
   "outputs": [
    {
     "name": "stdout",
     "output_type": "stream",
     "text": [
      "politic 1/32 (785, 7)\n",
      "              precision    recall  f1-score   support\n",
      "\n",
      "           0       0.94      0.95      0.94        81\n",
      "           1       0.95      0.93      0.94        76\n",
      "\n",
      "    accuracy                           0.94       157\n",
      "   macro avg       0.94      0.94      0.94       157\n",
      "weighted avg       0.94      0.94      0.94       157\n",
      "\n"
     ]
    }
   ],
   "source": [
    "test_pipeline(df_world_1_32, pipe_base, 'world 1/32')"
   ]
  },
  {
   "cell_type": "code",
   "execution_count": 207,
   "metadata": {},
   "outputs": [
    {
     "name": "stdout",
     "output_type": "stream",
     "text": [
      "politic 1/16 (1594, 7)\n",
      "              precision    recall  f1-score   support\n",
      "\n",
      "           0       0.94      0.95      0.94       170\n",
      "           1       0.94      0.93      0.93       149\n",
      "\n",
      "    accuracy                           0.94       319\n",
      "   macro avg       0.94      0.94      0.94       319\n",
      "weighted avg       0.94      0.94      0.94       319\n",
      "\n"
     ]
    }
   ],
   "source": [
    "test_pipeline(df_world_1_16, pipe_base, 'world 1/16')"
   ]
  },
  {
   "cell_type": "code",
   "execution_count": 217,
   "metadata": {},
   "outputs": [
    {
     "name": "stdout",
     "output_type": "stream",
     "text": [
      "world 1/8 (3192, 7)\n",
      "              precision    recall  f1-score   support\n",
      "\n",
      "           0       0.94      0.96      0.95       347\n",
      "           1       0.95      0.92      0.94       292\n",
      "\n",
      "    accuracy                           0.95       639\n",
      "   macro avg       0.95      0.94      0.94       639\n",
      "weighted avg       0.95      0.95      0.95       639\n",
      "\n"
     ]
    }
   ],
   "source": [
    "test_pipeline(df_world_1_8, pipe_base, 'world 1/8')"
   ]
  },
  {
   "cell_type": "code",
   "execution_count": 218,
   "metadata": {},
   "outputs": [
    {
     "name": "stdout",
     "output_type": "stream",
     "text": [
      "\n",
      "\n",
      "Most relevant for class: '0'\n",
      "\n",
      "['trump' 'year' 'american' 'republican' 'obama' 'just' 'before' 'right'\n",
      " 'all' 'this' 'clinton' 'white' 'campaign' 'federal' 'think' 'about'\n",
      " 'that' 'so' 'america' 'washington']\n",
      "[-1.48559216 -1.27016932 -1.17765257 -1.13337908 -1.00188452 -0.98774241\n",
      " -0.98370708 -0.91146819 -0.87052768 -0.85742414]\n",
      "\n",
      "\n",
      "Most relevant for class: '1'\n",
      "\n",
      "['tuesday' 'prime' 'european' 'president' 'killed' 'austria' 'thursday'\n",
      " 'long' 'on' 'friday' 'britain' 'far' 'reuters' 'minister' 'china' 'al'\n",
      " 'wednesday' 'saudi' 'german' 'said']\n",
      "[1.15169806 1.16650443 1.17722626 1.18996601 1.20667387 1.2192888\n",
      " 1.36248334 1.38786584 1.40117303 1.46640529]\n"
     ]
    }
   ],
   "source": [
    "relevant_words_sample(pipe_base['Vectorizer'], pipe_base['Classifier'])"
   ]
  },
  {
   "cell_type": "code",
   "execution_count": 219,
   "metadata": {},
   "outputs": [
    {
     "name": "stdout",
     "output_type": "stream",
     "text": [
      "politics 1/64 (412, 7)\n",
      "              precision    recall  f1-score   support\n",
      "\n",
      "           0       0.86      0.90      0.88        42\n",
      "           1       0.90      0.85      0.88        41\n",
      "\n",
      "    accuracy                           0.88        83\n",
      "   macro avg       0.88      0.88      0.88        83\n",
      "weighted avg       0.88      0.88      0.88        83\n",
      "\n"
     ]
    }
   ],
   "source": [
    "test_pipeline(df_politics_1_64, pipe_base, 'politics 1/64')"
   ]
  },
  {
   "cell_type": "code",
   "execution_count": 220,
   "metadata": {},
   "outputs": [
    {
     "name": "stdout",
     "output_type": "stream",
     "text": [
      "\n",
      "\n",
      "Most relevant for class: '0'\n",
      "\n",
      "['but' 'the' 'our' 'you' 'him' 'america' 'her' 'what' 'who' 'american'\n",
      " 'that' 'life' 'they' 'is' 'well' 'me' 'at' 'we' 'ky' 'so']\n",
      "[-0.66926992 -0.6406704  -0.59405002 -0.582299   -0.57045707 -0.52203845\n",
      " -0.50818366 -0.48838528 -0.48781066 -0.46363792]\n",
      "\n",
      "\n",
      "Most relevant for class: '1'\n",
      "\n",
      "['election' 'law' 'white' 'cruz' 'ted' 'will' 'democrat' 'to' 'democratic'\n",
      " 'thursday' 'donald' 'state' 'tuesday' 'last' 'lawmaker' 'republican'\n",
      " 'front' 'said' 'on' 'president']\n",
      "[0.63600839 0.67319374 0.69160335 0.73999054 0.86242471 0.87882896\n",
      " 0.88641036 1.12476189 1.25628289 1.83696717]\n"
     ]
    }
   ],
   "source": [
    "relevant_words_sample(pipe_base['Vectorizer'], pipe_base['Classifier'])"
   ]
  },
  {
   "cell_type": "code",
   "execution_count": 209,
   "metadata": {},
   "outputs": [
    {
     "name": "stdout",
     "output_type": "stream",
     "text": [
      "politics 1/32 (836, 7)\n",
      "              precision    recall  f1-score   support\n",
      "\n",
      "           0       0.83      0.91      0.87        75\n",
      "           1       0.92      0.85      0.88        93\n",
      "\n",
      "    accuracy                           0.88       168\n",
      "   macro avg       0.87      0.88      0.87       168\n",
      "weighted avg       0.88      0.88      0.88       168\n",
      "\n"
     ]
    }
   ],
   "source": [
    "test_pipeline(df_politics_1_32, pipe_base, 'politics 1/32')"
   ]
  },
  {
   "cell_type": "code",
   "execution_count": 210,
   "metadata": {},
   "outputs": [
    {
     "name": "stdout",
     "output_type": "stream",
     "text": [
      "politics 1/16 (1675, 7)\n",
      "              precision    recall  f1-score   support\n",
      "\n",
      "           0       0.87      0.89      0.88       162\n",
      "           1       0.89      0.88      0.89       173\n",
      "\n",
      "    accuracy                           0.88       335\n",
      "   macro avg       0.88      0.88      0.88       335\n",
      "weighted avg       0.88      0.88      0.88       335\n",
      "\n"
     ]
    }
   ],
   "source": [
    "test_pipeline(df_politics_1_16, pipe_base, 'politics 1/16')"
   ]
  },
  {
   "cell_type": "code",
   "execution_count": 211,
   "metadata": {},
   "outputs": [
    {
     "name": "stdout",
     "output_type": "stream",
     "text": [
      "politics 1/8 (3374, 7)\n",
      "              precision    recall  f1-score   support\n",
      "\n",
      "           0       0.90      0.93      0.91       333\n",
      "           1       0.93      0.89      0.91       342\n",
      "\n",
      "    accuracy                           0.91       675\n",
      "   macro avg       0.91      0.91      0.91       675\n",
      "weighted avg       0.91      0.91      0.91       675\n",
      "\n"
     ]
    }
   ],
   "source": [
    "test_pipeline(df_politics_1_8, pipe_base, 'politics 1/8')"
   ]
  },
  {
   "cell_type": "code",
   "execution_count": 213,
   "metadata": {},
   "outputs": [
    {
     "name": "stdout",
     "output_type": "stream",
     "text": [
      "\n",
      "\n",
      "Most relevant for class: '0'\n",
      "\n",
      "['trump' 'obama' 'year' 'american' 'republican' 'just' 'right' 'before'\n",
      " 'america' 'that' 'campaign' 'you' 'this' 'clinton' 'here' 'think' 'white'\n",
      " 'read' 'about' 'so']\n",
      "[-1.56646599 -1.34067751 -1.33132571 -1.11894415 -1.09860467 -0.94313204\n",
      " -0.90177021 -0.88619052 -0.8239332  -0.78531546]\n",
      "\n",
      "\n",
      "Most relevant for class: '1'\n",
      "\n",
      "['police' 'south' 'thursday' 'prime' 'on' 'oil' 'center' 'country' 'long'\n",
      " 'britain' 'china' 'reuters' 'friday' 'germany' 'german' 'al' 'wednesday'\n",
      " 'minister' 'said' 'far']\n",
      "[1.11712119 1.20040401 1.2166973  1.24840477 1.29350681 1.30036752\n",
      " 1.34356229 1.34377626 1.37778674 1.47406716]\n"
     ]
    }
   ],
   "source": [
    "relevant_words_sample(pipe_base['Vectorizer'], pipe_base['Classifier'])"
   ]
  }
 ],
 "metadata": {
  "kernelspec": {
   "display_name": "Python 3",
   "language": "python",
   "name": "python3"
  },
  "language_info": {
   "codemirror_mode": {
    "name": "ipython",
    "version": 3
   },
   "file_extension": ".py",
   "mimetype": "text/x-python",
   "name": "python",
   "nbconvert_exporter": "python",
   "pygments_lexer": "ipython3",
   "version": "3.12.4"
  }
 },
 "nbformat": 4,
 "nbformat_minor": 2
}
