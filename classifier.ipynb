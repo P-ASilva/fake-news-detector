{
 "cells": [
  {
   "cell_type": "code",
   "execution_count": 360,
   "metadata": {},
   "outputs": [],
   "source": [
    "import pandas as pd\n",
    "import numpy as np\n",
    "import matplotlib.pyplot as plt"
   ]
  },
  {
   "cell_type": "code",
   "execution_count": 361,
   "metadata": {},
   "outputs": [],
   "source": [
    "df_true = pd.read_csv(\"./db/True.csv\",sep=',')\n",
    "df_false = pd.read_csv(\"./db/Fake.csv\",sep=',')"
   ]
  },
  {
   "cell_type": "code",
   "execution_count": 362,
   "metadata": {},
   "outputs": [],
   "source": [
    "df_true['real'] = 1\n",
    "df_false['real'] = 0"
   ]
  },
  {
   "cell_type": "code",
   "execution_count": 363,
   "metadata": {},
   "outputs": [],
   "source": [
    "df = pd.concat([df_true,df_false])\n",
    "df = df.drop(['date'], axis=1) # may be questionable, check later."
   ]
  },
  {
   "cell_type": "code",
   "execution_count": 364,
   "metadata": {},
   "outputs": [
    {
     "data": {
      "text/html": [
       "<div>\n",
       "<style scoped>\n",
       "    .dataframe tbody tr th:only-of-type {\n",
       "        vertical-align: middle;\n",
       "    }\n",
       "\n",
       "    .dataframe tbody tr th {\n",
       "        vertical-align: top;\n",
       "    }\n",
       "\n",
       "    .dataframe thead th {\n",
       "        text-align: right;\n",
       "    }\n",
       "</style>\n",
       "<table border=\"1\" class=\"dataframe\">\n",
       "  <thead>\n",
       "    <tr style=\"text-align: right;\">\n",
       "      <th></th>\n",
       "      <th>title</th>\n",
       "      <th>text</th>\n",
       "      <th>subject</th>\n",
       "      <th>real</th>\n",
       "    </tr>\n",
       "  </thead>\n",
       "  <tbody>\n",
       "    <tr>\n",
       "      <th>0</th>\n",
       "      <td>As U.S. budget fight looms, Republicans flip t...</td>\n",
       "      <td>WASHINGTON (Reuters) - The head of a conservat...</td>\n",
       "      <td>politicsNews</td>\n",
       "      <td>1</td>\n",
       "    </tr>\n",
       "    <tr>\n",
       "      <th>1</th>\n",
       "      <td>U.S. military to accept transgender recruits o...</td>\n",
       "      <td>WASHINGTON (Reuters) - Transgender people will...</td>\n",
       "      <td>politicsNews</td>\n",
       "      <td>1</td>\n",
       "    </tr>\n",
       "    <tr>\n",
       "      <th>2</th>\n",
       "      <td>Senior U.S. Republican senator: 'Let Mr. Muell...</td>\n",
       "      <td>WASHINGTON (Reuters) - The special counsel inv...</td>\n",
       "      <td>politicsNews</td>\n",
       "      <td>1</td>\n",
       "    </tr>\n",
       "    <tr>\n",
       "      <th>3</th>\n",
       "      <td>FBI Russia probe helped by Australian diplomat...</td>\n",
       "      <td>WASHINGTON (Reuters) - Trump campaign adviser ...</td>\n",
       "      <td>politicsNews</td>\n",
       "      <td>1</td>\n",
       "    </tr>\n",
       "    <tr>\n",
       "      <th>4</th>\n",
       "      <td>Trump wants Postal Service to charge 'much mor...</td>\n",
       "      <td>SEATTLE/WASHINGTON (Reuters) - President Donal...</td>\n",
       "      <td>politicsNews</td>\n",
       "      <td>1</td>\n",
       "    </tr>\n",
       "  </tbody>\n",
       "</table>\n",
       "</div>"
      ],
      "text/plain": [
       "                                               title  \\\n",
       "0  As U.S. budget fight looms, Republicans flip t...   \n",
       "1  U.S. military to accept transgender recruits o...   \n",
       "2  Senior U.S. Republican senator: 'Let Mr. Muell...   \n",
       "3  FBI Russia probe helped by Australian diplomat...   \n",
       "4  Trump wants Postal Service to charge 'much mor...   \n",
       "\n",
       "                                                text       subject  real  \n",
       "0  WASHINGTON (Reuters) - The head of a conservat...  politicsNews     1  \n",
       "1  WASHINGTON (Reuters) - Transgender people will...  politicsNews     1  \n",
       "2  WASHINGTON (Reuters) - The special counsel inv...  politicsNews     1  \n",
       "3  WASHINGTON (Reuters) - Trump campaign adviser ...  politicsNews     1  \n",
       "4  SEATTLE/WASHINGTON (Reuters) - President Donal...  politicsNews     1  "
      ]
     },
     "execution_count": 364,
     "metadata": {},
     "output_type": "execute_result"
    }
   ],
   "source": [
    "df.head()"
   ]
  },
  {
   "cell_type": "code",
   "execution_count": 365,
   "metadata": {},
   "outputs": [],
   "source": [
    "def pre_process_text_fields(df, cols):\n",
    "    df[cols] = df[cols].apply(lambda x: x.str.lower())\n",
    "    return df"
   ]
  },
  {
   "cell_type": "code",
   "execution_count": 366,
   "metadata": {},
   "outputs": [],
   "source": [
    "df = pre_process_text_fields(df, ['title', 'text'])"
   ]
  },
  {
   "cell_type": "code",
   "execution_count": 367,
   "metadata": {},
   "outputs": [
    {
     "data": {
      "text/html": [
       "<div>\n",
       "<style scoped>\n",
       "    .dataframe tbody tr th:only-of-type {\n",
       "        vertical-align: middle;\n",
       "    }\n",
       "\n",
       "    .dataframe tbody tr th {\n",
       "        vertical-align: top;\n",
       "    }\n",
       "\n",
       "    .dataframe thead th {\n",
       "        text-align: right;\n",
       "    }\n",
       "</style>\n",
       "<table border=\"1\" class=\"dataframe\">\n",
       "  <thead>\n",
       "    <tr style=\"text-align: right;\">\n",
       "      <th></th>\n",
       "      <th>title</th>\n",
       "      <th>text</th>\n",
       "      <th>subject</th>\n",
       "      <th>real</th>\n",
       "    </tr>\n",
       "  </thead>\n",
       "  <tbody>\n",
       "    <tr>\n",
       "      <th>0</th>\n",
       "      <td>as u.s. budget fight looms, republicans flip t...</td>\n",
       "      <td>washington (reuters) - the head of a conservat...</td>\n",
       "      <td>politicsNews</td>\n",
       "      <td>1</td>\n",
       "    </tr>\n",
       "    <tr>\n",
       "      <th>1</th>\n",
       "      <td>u.s. military to accept transgender recruits o...</td>\n",
       "      <td>washington (reuters) - transgender people will...</td>\n",
       "      <td>politicsNews</td>\n",
       "      <td>1</td>\n",
       "    </tr>\n",
       "    <tr>\n",
       "      <th>2</th>\n",
       "      <td>senior u.s. republican senator: 'let mr. muell...</td>\n",
       "      <td>washington (reuters) - the special counsel inv...</td>\n",
       "      <td>politicsNews</td>\n",
       "      <td>1</td>\n",
       "    </tr>\n",
       "    <tr>\n",
       "      <th>3</th>\n",
       "      <td>fbi russia probe helped by australian diplomat...</td>\n",
       "      <td>washington (reuters) - trump campaign adviser ...</td>\n",
       "      <td>politicsNews</td>\n",
       "      <td>1</td>\n",
       "    </tr>\n",
       "    <tr>\n",
       "      <th>4</th>\n",
       "      <td>trump wants postal service to charge 'much mor...</td>\n",
       "      <td>seattle/washington (reuters) - president donal...</td>\n",
       "      <td>politicsNews</td>\n",
       "      <td>1</td>\n",
       "    </tr>\n",
       "  </tbody>\n",
       "</table>\n",
       "</div>"
      ],
      "text/plain": [
       "                                               title  \\\n",
       "0  as u.s. budget fight looms, republicans flip t...   \n",
       "1  u.s. military to accept transgender recruits o...   \n",
       "2  senior u.s. republican senator: 'let mr. muell...   \n",
       "3  fbi russia probe helped by australian diplomat...   \n",
       "4  trump wants postal service to charge 'much mor...   \n",
       "\n",
       "                                                text       subject  real  \n",
       "0  washington (reuters) - the head of a conservat...  politicsNews     1  \n",
       "1  washington (reuters) - transgender people will...  politicsNews     1  \n",
       "2  washington (reuters) - the special counsel inv...  politicsNews     1  \n",
       "3  washington (reuters) - trump campaign adviser ...  politicsNews     1  \n",
       "4  seattle/washington (reuters) - president donal...  politicsNews     1  "
      ]
     },
     "execution_count": 367,
     "metadata": {},
     "output_type": "execute_result"
    }
   ],
   "source": [
    "df.head()"
   ]
  },
  {
   "cell_type": "code",
   "execution_count": 368,
   "metadata": {},
   "outputs": [],
   "source": [
    "df['title_len'] = df['title'].apply(lambda x: len(x))\n",
    "df['text_len'] = df['text'].apply(lambda x: len(x))"
   ]
  },
  {
   "cell_type": "code",
   "execution_count": 369,
   "metadata": {},
   "outputs": [],
   "source": [
    "df[\"origin\"] = df[\"text\"].apply(lambda x: x.split(\"-\")[0])\n",
    "df[\"text\"] = df[\"text\"].apply(lambda x: \n",
    "    x if len(x.split(\"-\")) <= 1\n",
    "    else x.split(\"-\")[1]\n",
    ")"
   ]
  },
  {
   "cell_type": "code",
   "execution_count": 370,
   "metadata": {},
   "outputs": [
    {
     "data": {
      "image/png": "[encoded data removed]",
      "text/plain": [
       "<Figure size 640x480 with 1 Axes>"
      ]
     },
     "metadata": {},
     "output_type": "display_data"
    }
   ],
   "source": [
    "fake = df[\"real\"] == 0\n",
    "df[fake][\"subject\"].value_counts().plot(kind='bar')\n",
    "plt.title(\"Fake News Subjects\")\n",
    "plt.show()"
   ]
  },
  {
   "cell_type": "code",
   "execution_count": 371,
   "metadata": {},
   "outputs": [
    {
     "data": {
      "image/png": "[encoded data removed]",
      "text/plain": [
       "<Figure size 640x480 with 1 Axes>"
      ]
     },
     "metadata": {},
     "output_type": "display_data"
    }
   ],
   "source": [
    "df[~fake][\"subject\"].value_counts().plot(kind='bar')\n",
    "plt.title(\"Real News Subjects\")\n",
    "plt.show()"
   ]
  },
  {
   "cell_type": "code",
   "execution_count": 372,
   "metadata": {},
   "outputs": [
    {
     "data": {
      "text/plain": [
       "<Axes: ylabel='Frequency'>"
      ]
     },
     "execution_count": 372,
     "metadata": {},
     "output_type": "execute_result"
    },
    {
     "data": {
      "image/png": "[encoded data removed]",
      "text/plain": [
       "<Figure size 640x480 with 1 Axes>"
      ]
     },
     "metadata": {},
     "output_type": "display_data"
    }
   ],
   "source": [
    "df[~fake]['title_len'].plot(kind='hist', bins=20, alpha=0.5, label='Real', legend=True)\n",
    "df[fake]['title_len'].plot(kind='hist', bins=20, alpha=0.5, label='Fake', legend=True)"
   ]
  },
  {
   "cell_type": "code",
   "execution_count": 373,
   "metadata": {},
   "outputs": [
    {
     "data": {
      "text/plain": [
       "<Axes: ylabel='Frequency'>"
      ]
     },
     "execution_count": 373,
     "metadata": {},
     "output_type": "execute_result"
    },
    {
     "data": {
      "image/png": "[encoded data removed]",
      "text/plain": [
       "<Figure size 640x480 with 1 Axes>"
      ]
     },
     "metadata": {},
     "output_type": "display_data"
    }
   ],
   "source": [
    "df[fake]['text_len'].plot(kind='hist', bins=20, alpha=0.5, label='Fake', legend=True)\n",
    "df[~fake]['text_len'].plot(kind='hist', bins=20, alpha=0.5, label='Real', legend=True)"
   ]
  },
  {
   "cell_type": "code",
   "execution_count": 374,
   "metadata": {},
   "outputs": [
    {
     "data": {
      "text/plain": [
       "(23481, 21417)"
      ]
     },
     "execution_count": 374,
     "metadata": {},
     "output_type": "execute_result"
    }
   ],
   "source": [
    "len(df[fake]), len(df[~fake])"
   ]
  },
  {
   "cell_type": "code",
   "execution_count": 375,
   "metadata": {},
   "outputs": [],
   "source": [
    "from sklearn.pipeline import Pipeline\n",
    "from sklearn.feature_extraction.text import CountVectorizer\n",
    "from sklearn.linear_model import LogisticRegression"
   ]
  },
  {
   "cell_type": "code",
   "execution_count": 376,
   "metadata": {},
   "outputs": [],
   "source": [
    "def new_pipeline():\n",
    "    return Pipeline([\n",
    "        ('Vectorizer', CountVectorizer(binary=True)),  \n",
    "        ('Classifier', LogisticRegression()),  \n",
    "    ])"
   ]
  },
  {
   "cell_type": "code",
   "execution_count": 377,
   "metadata": {},
   "outputs": [],
   "source": [
    "def train_test_split(df_true, df_false):\n",
    "    X = pd.concat([df_true['text'], df_false['text']])\n",
    "    y = pd.concat([pd.Series(np.ones(len(df_true))), pd.Series(np.zeros(len(df_false)))])\n",
    "\n",
    "    return train_test_split(X, y, test_size=0.2, random_state=42)"
   ]
  },
  {
   "cell_type": "code",
   "execution_count": 378,
   "metadata": {},
   "outputs": [],
   "source": [
    "# define preprocessing pipeline\n",
    "pipe_text = new_pipeline()"
   ]
  },
  {
   "cell_type": "code",
   "execution_count": 379,
   "metadata": {},
   "outputs": [],
   "source": [
    "from sklearn.model_selection import train_test_split\n",
    "from sklearn.metrics import classification_report"
   ]
  },
  {
   "cell_type": "code",
   "execution_count": 380,
   "metadata": {},
   "outputs": [],
   "source": [
    "X_train, X_test, y_train, y_test = train_test_split(df[\"text\"], df['real'], test_size=0.2, random_state=42)\n",
    "\n",
    "pipe_text.fit(X_train, y_train)\n",
    "pred_text = pipe_text.predict(X_test)"
   ]
  },
  {
   "cell_type": "code",
   "execution_count": 381,
   "metadata": {},
   "outputs": [
    {
     "name": "stdout",
     "output_type": "stream",
     "text": [
      "              precision    recall  f1-score   support\n",
      "\n",
      "           0       0.97      0.94      0.96      4796\n",
      "           1       0.93      0.97      0.95      4184\n",
      "\n",
      "    accuracy                           0.95      8980\n",
      "   macro avg       0.95      0.95      0.95      8980\n",
      "weighted avg       0.95      0.95      0.95      8980\n",
      "\n"
     ]
    }
   ],
   "source": [
    "print(classification_report(pred_text, y_test))"
   ]
  },
  {
   "cell_type": "code",
   "execution_count": 382,
   "metadata": {},
   "outputs": [
    {
     "name": "stdout",
     "output_type": "stream",
     "text": [
      "(59523,)\n"
     ]
    }
   ],
   "source": [
    "words = pipe_text['Vectorizer'].get_feature_names_out()\n",
    "coefs = pipe_text['Classifier'].coef_\n",
    "classes = pipe_text['Classifier'].classes_\n",
    "print(words.shape)\n",
    "sorted_coef_indexes = coefs.argsort(axis=1)"
   ]
  },
  {
   "cell_type": "code",
   "execution_count": 383,
   "metadata": {},
   "outputs": [
    {
     "name": "stdout",
     "output_type": "stream",
     "text": [
      "0\n",
      "['via' 'elect' 'rep' 'gop' 'us' 'mr' 'read' 'sen' 'https' 'wing']\n",
      "[-3.64908823 -3.3124771  -3.21743969 -2.77557828 -2.49077262 -2.44329297\n",
      " -2.43128982 -2.3590832  -2.23905882 -2.16083212]\n"
     ]
    }
   ],
   "source": [
    "print(classes[0])\n",
    "top5words = words[sorted_coef_indexes[0,:10]]\n",
    "print(top5words)\n",
    "top5coefs = coefs[0,sorted_coef_indexes[0,:10]]\n",
    "print(top5coefs)"
   ]
  },
  {
   "cell_type": "code",
   "execution_count": 384,
   "metadata": {},
   "outputs": [
    {
     "name": "stdout",
     "output_type": "stream",
     "text": [
      "1\n",
      "['london' 'monday' 'saad' 'saudi' 'wednesday' 'president' 'reuters'\n",
      " 'donald' 'est' 'edt']\n",
      "[2.23657812 2.24536807 2.31098207 2.36332918 2.49612189 2.79392524\n",
      " 2.97957658 3.14780491 3.33673445 4.30818666]\n"
     ]
    }
   ],
   "source": [
    "print(classes[1])\n",
    "last5words = words[sorted_coef_indexes[0,-10:]]\n",
    "print(last5words)\n",
    "last5coefs = coefs[0,sorted_coef_indexes[0,-10:]]\n",
    "print(last5coefs)"
   ]
  }
 ],
 "metadata": {
  "kernelspec": {
   "display_name": "Python 3",
   "language": "python",
   "name": "python3"
  },
  "language_info": {
   "codemirror_mode": {
    "name": "ipython",
    "version": 3
   },
   "file_extension": ".py",
   "mimetype": "text/x-python",
   "name": "python",
   "nbconvert_exporter": "python",
   "pygments_lexer": "ipython3",
   "version": "3.12.4"
  }
 },
 "nbformat": 4,
 "nbformat_minor": 2
}
